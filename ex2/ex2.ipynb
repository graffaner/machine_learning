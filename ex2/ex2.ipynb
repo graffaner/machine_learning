{
 "cells": [
  {
   "cell_type": "code",
   "execution_count": 1,
   "metadata": {
    "collapsed": false
   },
   "outputs": [],
   "source": [
    "import numpy as np\n",
    "import pandas as pd\n",
    "from bokeh.plotting import figure, output_notebook, show\n",
    "from os import getcwd\n",
    "from scipy.optimize import minimize"
   ]
  },
  {
   "cell_type": "code",
   "execution_count": 2,
   "metadata": {
    "collapsed": false
   },
   "outputs": [
    {
     "data": {
      "text/html": [
       "\n",
       "    <div class=\"bk-root\">\n",
       "        <a href=\"http://bokeh.pydata.org\" target=\"_blank\" class=\"bk-logo bk-logo-small bk-logo-notebook\"></a>\n",
       "        <span id=\"46bb5b9b-bf9c-4c1c-96bc-3d30ce50acdb\">Loading BokehJS ...</span>\n",
       "    </div>"
      ]
     },
     "metadata": {},
     "output_type": "display_data"
    },
    {
     "data": {
      "application/javascript": [
       "\n",
       "(function(global) {\n",
       "  function now() {\n",
       "    return new Date();\n",
       "  }\n",
       "\n",
       "  var force = \"1\";\n",
       "\n",
       "  if (typeof (window._bokeh_onload_callbacks) === \"undefined\" || force !== \"\") {\n",
       "    window._bokeh_onload_callbacks = [];\n",
       "    window._bokeh_is_loading = undefined;\n",
       "  }\n",
       "\n",
       "\n",
       "  \n",
       "  if (typeof (window._bokeh_timeout) === \"undefined\" || force !== \"\") {\n",
       "    window._bokeh_timeout = Date.now() + 5000;\n",
       "    window._bokeh_failed_load = false;\n",
       "  }\n",
       "\n",
       "  var NB_LOAD_WARNING = {'data': {'text/html':\n",
       "     \"<div style='background-color: #fdd'>\\n\"+\n",
       "     \"<p>\\n\"+\n",
       "     \"BokehJS does not appear to have successfully loaded. If loading BokehJS from CDN, this \\n\"+\n",
       "     \"may be due to a slow or bad network connection. Possible fixes:\\n\"+\n",
       "     \"</p>\\n\"+\n",
       "     \"<ul>\\n\"+\n",
       "     \"<li>re-rerun `output_notebook()` to attempt to load from CDN again, or</li>\\n\"+\n",
       "     \"<li>use INLINE resources instead, as so:</li>\\n\"+\n",
       "     \"</ul>\\n\"+\n",
       "     \"<code>\\n\"+\n",
       "     \"from bokeh.resources import INLINE\\n\"+\n",
       "     \"output_notebook(resources=INLINE)\\n\"+\n",
       "     \"</code>\\n\"+\n",
       "     \"</div>\"}};\n",
       "\n",
       "  function display_loaded() {\n",
       "    if (window.Bokeh !== undefined) {\n",
       "      Bokeh.$(\"#46bb5b9b-bf9c-4c1c-96bc-3d30ce50acdb\").text(\"BokehJS successfully loaded.\");\n",
       "    } else if (Date.now() < window._bokeh_timeout) {\n",
       "      setTimeout(display_loaded, 100)\n",
       "    }\n",
       "  }\n",
       "\n",
       "  function run_callbacks() {\n",
       "    window._bokeh_onload_callbacks.forEach(function(callback) { callback() });\n",
       "    delete window._bokeh_onload_callbacks\n",
       "    console.info(\"Bokeh: all callbacks have finished\");\n",
       "  }\n",
       "\n",
       "  function load_libs(js_urls, callback) {\n",
       "    window._bokeh_onload_callbacks.push(callback);\n",
       "    if (window._bokeh_is_loading > 0) {\n",
       "      console.log(\"Bokeh: BokehJS is being loaded, scheduling callback at\", now());\n",
       "      return null;\n",
       "    }\n",
       "    if (js_urls == null || js_urls.length === 0) {\n",
       "      run_callbacks();\n",
       "      return null;\n",
       "    }\n",
       "    console.log(\"Bokeh: BokehJS not loaded, scheduling load and callback at\", now());\n",
       "    window._bokeh_is_loading = js_urls.length;\n",
       "    for (var i = 0; i < js_urls.length; i++) {\n",
       "      var url = js_urls[i];\n",
       "      var s = document.createElement('script');\n",
       "      s.src = url;\n",
       "      s.async = false;\n",
       "      s.onreadystatechange = s.onload = function() {\n",
       "        window._bokeh_is_loading--;\n",
       "        if (window._bokeh_is_loading === 0) {\n",
       "          console.log(\"Bokeh: all BokehJS libraries loaded\");\n",
       "          run_callbacks()\n",
       "        }\n",
       "      };\n",
       "      s.onerror = function() {\n",
       "        console.warn(\"failed to load library \" + url);\n",
       "      };\n",
       "      console.log(\"Bokeh: injecting script tag for BokehJS library: \", url);\n",
       "      document.getElementsByTagName(\"head\")[0].appendChild(s);\n",
       "    }\n",
       "  };var element = document.getElementById(\"46bb5b9b-bf9c-4c1c-96bc-3d30ce50acdb\");\n",
       "  if (element == null) {\n",
       "    console.log(\"Bokeh: ERROR: autoload.js configured with elementid '46bb5b9b-bf9c-4c1c-96bc-3d30ce50acdb' but no matching script tag was found. \")\n",
       "    return false;\n",
       "  }\n",
       "\n",
       "  var js_urls = ['https://cdn.pydata.org/bokeh/release/bokeh-0.12.2.min.js', 'https://cdn.pydata.org/bokeh/release/bokeh-widgets-0.12.2.min.js', 'https://cdn.pydata.org/bokeh/release/bokeh-compiler-0.12.2.min.js'];\n",
       "\n",
       "  var inline_js = [\n",
       "    function(Bokeh) {\n",
       "      Bokeh.set_log_level(\"info\");\n",
       "    },\n",
       "    \n",
       "    function(Bokeh) {\n",
       "      \n",
       "      Bokeh.$(\"#46bb5b9b-bf9c-4c1c-96bc-3d30ce50acdb\").text(\"BokehJS is loading...\");\n",
       "    },\n",
       "    function(Bokeh) {\n",
       "      console.log(\"Bokeh: injecting CSS: https://cdn.pydata.org/bokeh/release/bokeh-0.12.2.min.css\");\n",
       "      Bokeh.embed.inject_css(\"https://cdn.pydata.org/bokeh/release/bokeh-0.12.2.min.css\");\n",
       "      console.log(\"Bokeh: injecting CSS: https://cdn.pydata.org/bokeh/release/bokeh-widgets-0.12.2.min.css\");\n",
       "      Bokeh.embed.inject_css(\"https://cdn.pydata.org/bokeh/release/bokeh-widgets-0.12.2.min.css\");\n",
       "    }\n",
       "  ];\n",
       "\n",
       "  function run_inline_js() {\n",
       "    \n",
       "    if ((window.Bokeh !== undefined) || (force === \"1\")) {\n",
       "      for (var i = 0; i < inline_js.length; i++) {\n",
       "        inline_js[i](window.Bokeh);\n",
       "      }if (force === \"1\") {\n",
       "        display_loaded();\n",
       "      }} else if (Date.now() < window._bokeh_timeout) {\n",
       "      setTimeout(run_inline_js, 100);\n",
       "    } else if (!window._bokeh_failed_load) {\n",
       "      console.log(\"Bokeh: BokehJS failed to load within specified timeout.\");\n",
       "      window._bokeh_failed_load = true;\n",
       "    } else if (!force) {\n",
       "      var cell = $(\"#46bb5b9b-bf9c-4c1c-96bc-3d30ce50acdb\").parents('.cell').data().cell;\n",
       "      cell.output_area.append_execute_result(NB_LOAD_WARNING)\n",
       "    }\n",
       "\n",
       "  }\n",
       "\n",
       "  if (window._bokeh_is_loading === 0) {\n",
       "    console.log(\"Bokeh: BokehJS loaded, going straight to plotting\");\n",
       "    run_inline_js();\n",
       "  } else {\n",
       "    load_libs(js_urls, function() {\n",
       "      console.log(\"Bokeh: BokehJS plotting callback run at\", now());\n",
       "      run_inline_js();\n",
       "    });\n",
       "  }\n",
       "}(this));"
      ]
     },
     "metadata": {},
     "output_type": "display_data"
    }
   ],
   "source": [
    "output_notebook()"
   ]
  },
  {
   "cell_type": "code",
   "execution_count": 3,
   "metadata": {
    "collapsed": true
   },
   "outputs": [],
   "source": [
    "# in all the functions, theta needs to be the first variable, and then X and then Y.\n",
    "# so in the optimization function used in the gradient descent, theta is the variable\n",
    "# to be optimized, and X and Y are just parameters passed to all the functions since\n",
    "# X and Y don't change\n",
    "# make sure (X, Y) parameters are passed with the right sequence\n",
    "# into the optimization function"
   ]
  },
  {
   "cell_type": "code",
   "execution_count": 25,
   "metadata": {
    "collapsed": false
   },
   "outputs": [],
   "source": [
    "def checkData(theta, X, Y):\n",
    "    [m, n] = X.shape\n",
    "    # m: number of training data\n",
    "    # n: number of features including x0\n",
    "    \n",
    "    # check theta.shape\n",
    "    if theta.ndim==2:\n",
    "        if theta.shape[0]==1:\n",
    "            if theta.shape[1]!=n:\n",
    "                return False\n",
    "        elif theta.shape[0]==n:\n",
    "            if theta.shape[1]!=1:\n",
    "                return False\n",
    "        else:\n",
    "            return False\n",
    "    elif theta.ndim==1:\n",
    "        if theta.shape[0]!=n:\n",
    "            return False\n",
    "    else:\n",
    "        return False\n",
    "    \n",
    "    # check Y.shape\n",
    "    if Y.shape[0]!=m or Y.shape[1]!=1:\n",
    "        return False\n",
    "    \n",
    "    return True"
   ]
  },
  {
   "cell_type": "code",
   "execution_count": 4,
   "metadata": {
    "collapsed": true
   },
   "outputs": [],
   "source": [
    "# h_theta(x)=g(X*theta.T)\n",
    "def sigmoid(theta, X):\n",
    "    # X: features with the first column set as 1 (x0=1)\n",
    "    \n",
    "    theta = theta.reshape(-1, 1) # column vector shape\n",
    "    z = X.dot(theta) # m by 1 column vector\n",
    "    \n",
    "    return 1/(1+np.exp(-z))"
   ]
  },
  {
   "cell_type": "code",
   "execution_count": 41,
   "metadata": {
    "collapsed": true
   },
   "outputs": [],
   "source": [
    "# function to predict the classification based on sigmoid function\n",
    "# if sigmoid > 0.5, =1\n",
    "# if sigmoid < 0.5, =0\n",
    "def pred(theta, X):\n",
    "    Y = sigmoid(theta, X)\n",
    "    \n",
    "    for i in range(0, Y.shape[0]):\n",
    "        Y[i][0] = 1.0 if Y[i][0] >= 0.5 else 0.0\n",
    "    \n",
    "    return Y"
   ]
  },
  {
   "cell_type": "code",
   "execution_count": 13,
   "metadata": {
    "collapsed": true
   },
   "outputs": [],
   "source": [
    "# cost_J: the cost function\n",
    "# the cost function will be called in the optimization function\n",
    "# so the return value of the cost function needs to be scalar"
   ]
  },
  {
   "cell_type": "code",
   "execution_count": 5,
   "metadata": {
    "collapsed": true
   },
   "outputs": [],
   "source": [
    "def cost_J(theta, X, Y):\n",
    "    # X: features with the first column set as 1 (x0=1)\n",
    "    # Y: response\n",
    "    [m, n] = X.shape\n",
    "    # m: number of training data\n",
    "    # n: number of features including x0\n",
    "     \n",
    "    h = sigmoid(theta, X)\n",
    "    J = 1/m * (-Y.T.dot(np.log(h)) - (1 - Y.T).dot(np.log(1 - h))) # m by 1 column vector\n",
    "    J = J.flatten()\n",
    "    \n",
    "    return J[0]"
   ]
  },
  {
   "cell_type": "code",
   "execution_count": 14,
   "metadata": {
    "collapsed": true
   },
   "outputs": [],
   "source": [
    "# grad_J: the gradient of the cost function\n",
    "# the gradient function will be called in the optimization function\n",
    "# so the return value of the gradient function needs to be 1 dimensional array"
   ]
  },
  {
   "cell_type": "code",
   "execution_count": 6,
   "metadata": {
    "collapsed": true
   },
   "outputs": [],
   "source": [
    "def grad_J(theta, X, Y):\n",
    "    # X: features with the first column set as 1 (x0=1)\n",
    "    # Y: response\n",
    "    [m, n] = X.shape\n",
    "    # m: number of training data\n",
    "    # n: number of features including x0\n",
    "    \n",
    "    h = sigmoid(theta, X)\n",
    "    dJ = 1/m * ((h - Y).T.dot(X))\n",
    "    dJ = dJ.flatten()\n",
    "    \n",
    "    return dJ"
   ]
  },
  {
   "cell_type": "code",
   "execution_count": 7,
   "metadata": {
    "collapsed": false
   },
   "outputs": [],
   "source": [
    "path = getcwd() + '/'\n",
    "data1 = pd.read_csv(path+'ex2data1.txt', header=None, index_col=None)\n",
    "data1.columns = ['exam1', 'exam2', 'admission']"
   ]
  },
  {
   "cell_type": "code",
   "execution_count": 43,
   "metadata": {
    "collapsed": false
   },
   "outputs": [],
   "source": [
    "# set up training data and add x0 column to X\n",
    "X_1 = data1[['exam1', 'exam2']].values\n",
    "X_1 = np.insert(X_1, 0, 1, axis=1)\n",
    "Y_1 = data1['admission'].values.reshape(-1, 1)\n",
    "\n",
    "# initialize theta0\n",
    "theta0_1 = np.zeros(X_1.shape[1])\n",
    "\n",
    "# check data shape\n",
    "if not checkData(theta0_1, X_1, Y_1):\n",
    "    print('check the shape of data')\n",
    "\n",
    "# grad_J(theta0_1, X_1, Y_1)"
   ]
  },
  {
   "cell_type": "code",
   "execution_count": 16,
   "metadata": {
    "collapsed": false
   },
   "outputs": [
    {
     "name": "stdout",
     "output_type": "stream",
     "text": [
      "Optimization terminated successfully.\n",
      "         Current function value: 0.203498\n",
      "         Iterations: 23\n",
      "         Function evaluations: 31\n",
      "         Gradient evaluations: 31\n"
     ]
    }
   ],
   "source": [
    "# using BFGS optimization function\n",
    "res = minimize(cost_J, theta0_1, args=(X_1, Y_1), method='BFGS', jac=grad_J,\\\n",
    "               options={'disp': True})\n",
    "theta_opt_1 = res.x"
   ]
  },
  {
   "cell_type": "code",
   "execution_count": 18,
   "metadata": {
    "collapsed": true
   },
   "outputs": [],
   "source": [
    "# build decision boundary\n",
    "exam1_bound = np.linspace(30, 100, num=50)\n",
    "exam2_bound = (theta_opt_1[0]+theta_opt_1[1]*exam1_bound)/(-theta_opt_1[2])"
   ]
  },
  {
   "cell_type": "code",
   "execution_count": 50,
   "metadata": {
    "collapsed": false
   },
   "outputs": [
    {
     "data": {
      "text/html": [
       "\n",
       "\n",
       "    <div class=\"bk-root\">\n",
       "        <div class=\"plotdiv\" id=\"e29a7c3c-1a1c-4987-9ca2-c1c285b57cea\"></div>\n",
       "    </div>\n",
       "<script type=\"text/javascript\">\n",
       "  \n",
       "  (function(global) {\n",
       "    function now() {\n",
       "      return new Date();\n",
       "    }\n",
       "  \n",
       "    var force = \"\";\n",
       "  \n",
       "    if (typeof (window._bokeh_onload_callbacks) === \"undefined\" || force !== \"\") {\n",
       "      window._bokeh_onload_callbacks = [];\n",
       "      window._bokeh_is_loading = undefined;\n",
       "    }\n",
       "  \n",
       "  \n",
       "    \n",
       "    if (typeof (window._bokeh_timeout) === \"undefined\" || force !== \"\") {\n",
       "      window._bokeh_timeout = Date.now() + 0;\n",
       "      window._bokeh_failed_load = false;\n",
       "    }\n",
       "  \n",
       "    var NB_LOAD_WARNING = {'data': {'text/html':\n",
       "       \"<div style='background-color: #fdd'>\\n\"+\n",
       "       \"<p>\\n\"+\n",
       "       \"BokehJS does not appear to have successfully loaded. If loading BokehJS from CDN, this \\n\"+\n",
       "       \"may be due to a slow or bad network connection. Possible fixes:\\n\"+\n",
       "       \"</p>\\n\"+\n",
       "       \"<ul>\\n\"+\n",
       "       \"<li>re-rerun `output_notebook()` to attempt to load from CDN again, or</li>\\n\"+\n",
       "       \"<li>use INLINE resources instead, as so:</li>\\n\"+\n",
       "       \"</ul>\\n\"+\n",
       "       \"<code>\\n\"+\n",
       "       \"from bokeh.resources import INLINE\\n\"+\n",
       "       \"output_notebook(resources=INLINE)\\n\"+\n",
       "       \"</code>\\n\"+\n",
       "       \"</div>\"}};\n",
       "  \n",
       "    function display_loaded() {\n",
       "      if (window.Bokeh !== undefined) {\n",
       "        Bokeh.$(\"#e29a7c3c-1a1c-4987-9ca2-c1c285b57cea\").text(\"BokehJS successfully loaded.\");\n",
       "      } else if (Date.now() < window._bokeh_timeout) {\n",
       "        setTimeout(display_loaded, 100)\n",
       "      }\n",
       "    }\n",
       "  \n",
       "    function run_callbacks() {\n",
       "      window._bokeh_onload_callbacks.forEach(function(callback) { callback() });\n",
       "      delete window._bokeh_onload_callbacks\n",
       "      console.info(\"Bokeh: all callbacks have finished\");\n",
       "    }\n",
       "  \n",
       "    function load_libs(js_urls, callback) {\n",
       "      window._bokeh_onload_callbacks.push(callback);\n",
       "      if (window._bokeh_is_loading > 0) {\n",
       "        console.log(\"Bokeh: BokehJS is being loaded, scheduling callback at\", now());\n",
       "        return null;\n",
       "      }\n",
       "      if (js_urls == null || js_urls.length === 0) {\n",
       "        run_callbacks();\n",
       "        return null;\n",
       "      }\n",
       "      console.log(\"Bokeh: BokehJS not loaded, scheduling load and callback at\", now());\n",
       "      window._bokeh_is_loading = js_urls.length;\n",
       "      for (var i = 0; i < js_urls.length; i++) {\n",
       "        var url = js_urls[i];\n",
       "        var s = document.createElement('script');\n",
       "        s.src = url;\n",
       "        s.async = false;\n",
       "        s.onreadystatechange = s.onload = function() {\n",
       "          window._bokeh_is_loading--;\n",
       "          if (window._bokeh_is_loading === 0) {\n",
       "            console.log(\"Bokeh: all BokehJS libraries loaded\");\n",
       "            run_callbacks()\n",
       "          }\n",
       "        };\n",
       "        s.onerror = function() {\n",
       "          console.warn(\"failed to load library \" + url);\n",
       "        };\n",
       "        console.log(\"Bokeh: injecting script tag for BokehJS library: \", url);\n",
       "        document.getElementsByTagName(\"head\")[0].appendChild(s);\n",
       "      }\n",
       "    };var element = document.getElementById(\"e29a7c3c-1a1c-4987-9ca2-c1c285b57cea\");\n",
       "    if (element == null) {\n",
       "      console.log(\"Bokeh: ERROR: autoload.js configured with elementid 'e29a7c3c-1a1c-4987-9ca2-c1c285b57cea' but no matching script tag was found. \")\n",
       "      return false;\n",
       "    }\n",
       "  \n",
       "    var js_urls = [];\n",
       "  \n",
       "    var inline_js = [\n",
       "      function(Bokeh) {\n",
       "        Bokeh.$(function() {\n",
       "            var docs_json = {\"3065deca-a0a8-43b7-b75d-0a5098b32927\":{\"roots\":{\"references\":[{\"attributes\":{\"line_color\":{\"value\":\"green\"},\"x\":{\"field\":\"x\"},\"y\":{\"field\":\"y\"}},\"id\":\"01358d6c-442a-4d9d-972c-2809b5ddb1ea\",\"type\":\"Line\"},{\"attributes\":{\"plot\":{\"id\":\"181dba48-e6af-4684-94c6-5acfac14727c\",\"subtype\":\"Figure\",\"type\":\"Plot\"}},\"id\":\"04327c53-c679-4096-b0be-5ce38143d277\",\"type\":\"ResetTool\"},{\"attributes\":{\"below\":[{\"id\":\"edbd2833-56a5-4bbd-8678-934ab5cdc0da\",\"type\":\"LinearAxis\"}],\"left\":[{\"id\":\"4c12a56e-0c38-422e-83a2-669798a4f99b\",\"type\":\"LinearAxis\"}],\"renderers\":[{\"id\":\"edbd2833-56a5-4bbd-8678-934ab5cdc0da\",\"type\":\"LinearAxis\"},{\"id\":\"9de9130f-8e85-480d-b1a6-07fa4b4a001f\",\"type\":\"Grid\"},{\"id\":\"4c12a56e-0c38-422e-83a2-669798a4f99b\",\"type\":\"LinearAxis\"},{\"id\":\"04e4753e-a24e-4881-b3c6-b6f8a61cd1ca\",\"type\":\"Grid\"},{\"id\":\"ad7fd932-afc0-45d4-a9d7-a271e5f195b9\",\"type\":\"BoxAnnotation\"},{\"id\":\"e0a5aab3-2dba-4ad0-be34-ae9cad24ce97\",\"type\":\"Legend\"},{\"id\":\"b2eba802-975d-4079-b227-51cd37b783c7\",\"type\":\"GlyphRenderer\"},{\"id\":\"4cbf6d69-f139-4f98-b9dc-7666ecdf6785\",\"type\":\"GlyphRenderer\"},{\"id\":\"2a1e0952-819a-45ec-b687-036e90fdc75c\",\"type\":\"GlyphRenderer\"}],\"title\":{\"id\":\"ef59b541-6ef2-4f0f-a92a-1969a90afb50\",\"type\":\"Title\"},\"tool_events\":{\"id\":\"14e31860-c515-477e-aeb1-6a7f4c4ac065\",\"type\":\"ToolEvents\"},\"toolbar\":{\"id\":\"1f7da17f-4f2a-41a3-b2c8-b19b37eca28c\",\"type\":\"Toolbar\"},\"x_range\":{\"id\":\"e40e588f-58cc-4b7e-a6f9-9f8d167c0462\",\"type\":\"DataRange1d\"},\"y_range\":{\"id\":\"428e5f33-5de7-4925-8f35-f01a289bb816\",\"type\":\"DataRange1d\"}},\"id\":\"181dba48-e6af-4684-94c6-5acfac14727c\",\"subtype\":\"Figure\",\"type\":\"Plot\"},{\"attributes\":{\"legends\":[[\"not admitted\",[{\"id\":\"b2eba802-975d-4079-b227-51cd37b783c7\",\"type\":\"GlyphRenderer\"}]],[\"admitted\",[{\"id\":\"4cbf6d69-f139-4f98-b9dc-7666ecdf6785\",\"type\":\"GlyphRenderer\"}]],[\"boundary\",[{\"id\":\"2a1e0952-819a-45ec-b687-036e90fdc75c\",\"type\":\"GlyphRenderer\"}]]],\"plot\":{\"id\":\"181dba48-e6af-4684-94c6-5acfac14727c\",\"subtype\":\"Figure\",\"type\":\"Plot\"}},\"id\":\"e0a5aab3-2dba-4ad0-be34-ae9cad24ce97\",\"type\":\"Legend\"},{\"attributes\":{},\"id\":\"22c0d049-6c04-40d8-b3e7-bb30a7bc53e4\",\"type\":\"BasicTickFormatter\"},{\"attributes\":{\"plot\":{\"id\":\"181dba48-e6af-4684-94c6-5acfac14727c\",\"subtype\":\"Figure\",\"type\":\"Plot\"},\"ticker\":{\"id\":\"655296f3-41a8-4f38-a564-f12aa3f0b7b1\",\"type\":\"BasicTicker\"}},\"id\":\"9de9130f-8e85-480d-b1a6-07fa4b4a001f\",\"type\":\"Grid\"},{\"attributes\":{\"overlay\":{\"id\":\"ad7fd932-afc0-45d4-a9d7-a271e5f195b9\",\"type\":\"BoxAnnotation\"},\"plot\":{\"id\":\"181dba48-e6af-4684-94c6-5acfac14727c\",\"subtype\":\"Figure\",\"type\":\"Plot\"}},\"id\":\"334c82b2-c42f-4f54-8028-dc07c75a1a29\",\"type\":\"BoxZoomTool\"},{\"attributes\":{\"data_source\":{\"id\":\"fbd30e8a-a164-49a6-86b9-b9b1731cb53e\",\"type\":\"ColumnDataSource\"},\"glyph\":{\"id\":\"4b1b5de9-a659-4cd4-a986-39e0eb35f3d7\",\"type\":\"Circle\"},\"hover_glyph\":null,\"nonselection_glyph\":{\"id\":\"02641930-426b-4406-85ba-c8965c6a4775\",\"type\":\"Circle\"},\"selection_glyph\":null},\"id\":\"b2eba802-975d-4079-b227-51cd37b783c7\",\"type\":\"GlyphRenderer\"},{\"attributes\":{\"data_source\":{\"id\":\"ade54405-3fa0-4ec8-9591-fb93a055b797\",\"type\":\"ColumnDataSource\"},\"glyph\":{\"id\":\"01358d6c-442a-4d9d-972c-2809b5ddb1ea\",\"type\":\"Line\"},\"hover_glyph\":null,\"nonselection_glyph\":{\"id\":\"e0e84c28-5fa3-4aa4-9066-7038c634aa68\",\"type\":\"Line\"},\"selection_glyph\":null},\"id\":\"2a1e0952-819a-45ec-b687-036e90fdc75c\",\"type\":\"GlyphRenderer\"},{\"attributes\":{\"bottom_units\":\"screen\",\"fill_alpha\":{\"value\":0.5},\"fill_color\":{\"value\":\"lightgrey\"},\"left_units\":\"screen\",\"level\":\"overlay\",\"line_alpha\":{\"value\":1.0},\"line_color\":{\"value\":\"black\"},\"line_dash\":[4,4],\"line_width\":{\"value\":2},\"plot\":null,\"render_mode\":\"css\",\"right_units\":\"screen\",\"top_units\":\"screen\"},\"id\":\"ad7fd932-afc0-45d4-a9d7-a271e5f195b9\",\"type\":\"BoxAnnotation\"},{\"attributes\":{\"data_source\":{\"id\":\"ba9fdeca-cc14-4947-a326-461380cc3a56\",\"type\":\"ColumnDataSource\"},\"glyph\":{\"id\":\"07fac124-42a4-4d6b-b7d0-e33c94d0a0af\",\"type\":\"Cross\"},\"hover_glyph\":null,\"nonselection_glyph\":{\"id\":\"e8dcdf14-9826-485a-900a-2cd0fbdb6965\",\"type\":\"Cross\"},\"selection_glyph\":null},\"id\":\"4cbf6d69-f139-4f98-b9dc-7666ecdf6785\",\"type\":\"GlyphRenderer\"},{\"attributes\":{\"callback\":null,\"column_names\":[\"x\",\"y\"],\"data\":{\"x\":[30.0,31.428571428571427,32.857142857142854,34.285714285714285,35.714285714285715,37.142857142857146,38.57142857142857,40.0,41.42857142857143,42.85714285714286,44.285714285714285,45.714285714285715,47.14285714285714,48.57142857142857,50.0,51.42857142857143,52.85714285714286,54.285714285714285,55.714285714285715,57.14285714285714,58.57142857142857,60.0,61.42857142857143,62.85714285714286,64.28571428571428,65.71428571428572,67.14285714285714,68.57142857142857,70.0,71.42857142857143,72.85714285714286,74.28571428571428,75.71428571428572,77.14285714285714,78.57142857142857,80.0,81.42857142857143,82.85714285714286,84.28571428571428,85.71428571428572,87.14285714285714,88.57142857142857,90.0,91.42857142857143,92.85714285714286,94.28571428571429,95.71428571428572,97.14285714285714,98.57142857142857,100.0],\"y\":[94.17893971725944,92.71661596435283,91.2542922114462,89.79196845853957,88.32964470563294,86.86732095272633,85.40499719981972,83.94267344691309,82.48034969400645,81.01802594109985,79.55570218819322,78.09337843528661,76.63105468238,75.16873092947337,73.70640717656674,72.24408342366013,70.7817596707535,69.31943591784689,67.85711216494026,66.39478841203365,64.93246465912702,63.4701409062204,62.00781715331378,60.54549340040715,59.08316964750055,57.620845894593906,56.1585221416873,54.69619838878068,53.23387463587405,51.77155088296744,50.30922713006082,48.8469033771542,47.38457962424757,45.922255871340965,44.45993211843433,42.997608365527704,41.53528461262108,40.07296085971446,38.61063710680786,37.14831335390123,35.68598960099461,34.22366584808798,32.76134209518138,31.299018342274753,29.83669458936813,28.374370836461505,26.912047083554885,25.44972333064828,23.987399577741655,22.52507582483503]}},\"id\":\"ade54405-3fa0-4ec8-9591-fb93a055b797\",\"type\":\"ColumnDataSource\"},{\"attributes\":{\"callback\":null},\"id\":\"e40e588f-58cc-4b7e-a6f9-9f8d167c0462\",\"type\":\"DataRange1d\"},{\"attributes\":{\"fill_color\":{\"value\":\"red\"},\"line_color\":{\"value\":\"red\"},\"size\":{\"units\":\"screen\",\"value\":10},\"x\":{\"field\":\"x\"},\"y\":{\"field\":\"y\"}},\"id\":\"07fac124-42a4-4d6b-b7d0-e33c94d0a0af\",\"type\":\"Cross\"},{\"attributes\":{\"fill_alpha\":{\"value\":0.1},\"fill_color\":{\"value\":\"#1f77b4\"},\"line_alpha\":{\"value\":0.1},\"line_color\":{\"value\":\"#1f77b4\"},\"size\":{\"units\":\"screen\",\"value\":5},\"x\":{\"field\":\"x\"},\"y\":{\"field\":\"y\"}},\"id\":\"02641930-426b-4406-85ba-c8965c6a4775\",\"type\":\"Circle\"},{\"attributes\":{\"line_alpha\":{\"value\":0.1},\"line_color\":{\"value\":\"#1f77b4\"},\"x\":{\"field\":\"x\"},\"y\":{\"field\":\"y\"}},\"id\":\"e0e84c28-5fa3-4aa4-9066-7038c634aa68\",\"type\":\"Line\"},{\"attributes\":{},\"id\":\"655296f3-41a8-4f38-a564-f12aa3f0b7b1\",\"type\":\"BasicTicker\"},{\"attributes\":{},\"id\":\"14e31860-c515-477e-aeb1-6a7f4c4ac065\",\"type\":\"ToolEvents\"},{\"attributes\":{},\"id\":\"eeb7da63-5218-40ff-adbf-bec0785fc440\",\"type\":\"BasicTicker\"},{\"attributes\":{\"plot\":{\"id\":\"181dba48-e6af-4684-94c6-5acfac14727c\",\"subtype\":\"Figure\",\"type\":\"Plot\"}},\"id\":\"f991f0c7-d005-4cbf-a8bb-efb003cfeed3\",\"type\":\"PanTool\"},{\"attributes\":{\"fill_alpha\":{\"value\":0.1},\"fill_color\":{\"value\":\"#1f77b4\"},\"line_alpha\":{\"value\":0.1},\"line_color\":{\"value\":\"#1f77b4\"},\"size\":{\"units\":\"screen\",\"value\":10},\"x\":{\"field\":\"x\"},\"y\":{\"field\":\"y\"}},\"id\":\"e8dcdf14-9826-485a-900a-2cd0fbdb6965\",\"type\":\"Cross\"},{\"attributes\":{\"callback\":null},\"id\":\"428e5f33-5de7-4925-8f35-f01a289bb816\",\"type\":\"DataRange1d\"},{\"attributes\":{},\"id\":\"bbcbc72f-cab4-4460-980e-dda5e6a924e5\",\"type\":\"BasicTickFormatter\"},{\"attributes\":{\"plot\":{\"id\":\"181dba48-e6af-4684-94c6-5acfac14727c\",\"subtype\":\"Figure\",\"type\":\"Plot\"}},\"id\":\"436a0f70-a6d9-404c-9d35-dac587d6f293\",\"type\":\"SaveTool\"},{\"attributes\":{\"callback\":null,\"column_names\":[\"y\",\"x\"],\"data\":{\"x\":[34.62365962451697,30.28671076822607,35.84740876993872,45.083277476683385,95.86155507093572,75.01365838958247,39.538339143672225,67.94685547711617,67.37202754570876,50.534788289883004,34.21206097786789,93.114388797442,61.83020602312595,38.78580379679423,52.10797973193984,40.236893735451105,54.63510555424817,33.91550010906887,74.78925295941542,34.1836400264419,51.54772026906181,82.36875375713919,51.04775177128865,62.222675761201884,34.52451385320009,50.286496118990705,49.58667721632031,32.57720016809309,35.28611281526193,56.253817497116245,30.05882244669796,44.66826172480893,66.56089447242954,49.07256321908844,32.722833040603234,60.45555629271532,82.2266615778557,42.0754545384731,52.34800398794108,55.48216114069585],\"y\":[78.0246928153624,43.894997524001006,72.90219802708364,56.316371781530506,38.22527805795094,30.60326323428011,76.0368108511588,46.67857410673128,42.83843832029179,48.85581152764205,44.209528598662885,38.80067033713209,50.25610789244621,64.99568095539578,63.127623768817145,71.16774802184875,52.21388588061123,98.86943574220612,41.57341522824434,75.2377203360134,46.85629026349976,40.61825515970618,45.82270145776001,52.060991948366784,60.39634245837173,49.80453881323059,59.80895099453265,95.59854761387876,47.02051394723416,39.261472510580184,49.59297386723685,66.45008614558913,41.09209807936973,51.88321182073966,43.307173064300635,42.50840943572217,42.719878537164576,78.84478600148044,60.76950525602592,35.570703472288656]}},\"id\":\"fbd30e8a-a164-49a6-86b9-b9b1731cb53e\",\"type\":\"ColumnDataSource\"},{\"attributes\":{\"axis_label\":\"exam1\",\"formatter\":{\"id\":\"22c0d049-6c04-40d8-b3e7-bb30a7bc53e4\",\"type\":\"BasicTickFormatter\"},\"plot\":{\"id\":\"181dba48-e6af-4684-94c6-5acfac14727c\",\"subtype\":\"Figure\",\"type\":\"Plot\"},\"ticker\":{\"id\":\"655296f3-41a8-4f38-a564-f12aa3f0b7b1\",\"type\":\"BasicTicker\"}},\"id\":\"edbd2833-56a5-4bbd-8678-934ab5cdc0da\",\"type\":\"LinearAxis\"},{\"attributes\":{\"plot\":null,\"text\":null},\"id\":\"ef59b541-6ef2-4f0f-a92a-1969a90afb50\",\"type\":\"Title\"},{\"attributes\":{\"active_drag\":\"auto\",\"active_scroll\":\"auto\",\"active_tap\":\"auto\",\"tools\":[{\"id\":\"f991f0c7-d005-4cbf-a8bb-efb003cfeed3\",\"type\":\"PanTool\"},{\"id\":\"04327c53-c679-4096-b0be-5ce38143d277\",\"type\":\"ResetTool\"},{\"id\":\"334c82b2-c42f-4f54-8028-dc07c75a1a29\",\"type\":\"BoxZoomTool\"},{\"id\":\"436a0f70-a6d9-404c-9d35-dac587d6f293\",\"type\":\"SaveTool\"}]},\"id\":\"1f7da17f-4f2a-41a3-b2c8-b19b37eca28c\",\"type\":\"Toolbar\"},{\"attributes\":{\"axis_label\":\"exam2\",\"formatter\":{\"id\":\"bbcbc72f-cab4-4460-980e-dda5e6a924e5\",\"type\":\"BasicTickFormatter\"},\"plot\":{\"id\":\"181dba48-e6af-4684-94c6-5acfac14727c\",\"subtype\":\"Figure\",\"type\":\"Plot\"},\"ticker\":{\"id\":\"eeb7da63-5218-40ff-adbf-bec0785fc440\",\"type\":\"BasicTicker\"}},\"id\":\"4c12a56e-0c38-422e-83a2-669798a4f99b\",\"type\":\"LinearAxis\"},{\"attributes\":{\"callback\":null,\"column_names\":[\"x\",\"y\"],\"data\":{\"x\":[60.18259938620975,79.0327360507101,61.10666453684766,75.02474556738889,76.09878670226256,84.43281996120034,82.3070533739948,69.36458875970939,53.9710521485623,69.07014406283025,70.66150955499434,76.97878372747499,89.67677575072081,77.9240914545704,62.27101367004632,80.19018075095659,61.379289447425,85.40451939411645,52.04540476831827,64.17698887494485,83.90239366249155,94.44336776917852,77.19303492601364,97.7715992800023,62.073063796676465,91.56497449807442,79.94481794066932,99.2725269292572,90.5467141139985,97.64563396007769,74.24869136721598,71.7964620586338,75.39561146568029,40.45755098375164,80.27957401466998,66.74671856944039,64.0393204150601,72.34649422579923,60.4578857391896,58.840956217268015,99.82785779692128,47.26426910848174,50.45815980285988,88.91389641665329,94.83450672430195,67.31925746917527,57.238706315698614,80.36675600171273,68.46852178591112,75.47770200533905,78.6354243489802,94.09433112516793,90.44855097096365,74.49269241843041,89.8458067072098,83.48916274498238,42.261700809981704,99.31500880510393,55.34001756003703,74.77589300092767],\"y\":[86.30855209546827,75.3443764369103,96.51142588489624,46.55401354116538,87.42056971926803,43.533393310721095,76.48196330235605,97.71869196188608,89.20735013750205,52.740469730167646,92.92713789364832,47.575963649755316,65.79936592745237,68.9723599933059,69.95445795447587,44.821628932183536,72.80788731317097,57.05198397627122,69.43286012045222,80.90806058670817,56.30804621605328,65.56892160559052,70.4582000018096,86.7278223300282,96.76882412413984,88.69629254546598,74.16311935043757,60.99903099844988,43.39060180650027,68.86157272420604,69.82457122657193,78.45356224515052,85.75993667331619,97.53518548909935,92.11606081344084,60.99139402740989,78.03168802018232,96.22759296761404,73.09499809758037,75.85844831279043,72.36925193383884,88.47586499559782,75.80985952982456,69.80378889835472,45.69430680250754,66.58935317747915,59.51428198012957,90.96014789746954,85.59430710452014,90.42453899753963,96.64742716885642,77.15910509073893,87.50879176484702,84.84513684930135,45.35828361091658,48.38028579728175,87.10385094025456,68.77540947206617,64.9319380069486,89.52981289513276]}},\"id\":\"ba9fdeca-cc14-4947-a326-461380cc3a56\",\"type\":\"ColumnDataSource\"},{\"attributes\":{\"fill_color\":{\"value\":\"#1f77b4\"},\"line_color\":{\"value\":\"#1f77b4\"},\"size\":{\"units\":\"screen\",\"value\":5},\"x\":{\"field\":\"x\"},\"y\":{\"field\":\"y\"}},\"id\":\"4b1b5de9-a659-4cd4-a986-39e0eb35f3d7\",\"type\":\"Circle\"},{\"attributes\":{\"dimension\":1,\"plot\":{\"id\":\"181dba48-e6af-4684-94c6-5acfac14727c\",\"subtype\":\"Figure\",\"type\":\"Plot\"},\"ticker\":{\"id\":\"eeb7da63-5218-40ff-adbf-bec0785fc440\",\"type\":\"BasicTicker\"}},\"id\":\"04e4753e-a24e-4881-b3c6-b6f8a61cd1ca\",\"type\":\"Grid\"}],\"root_ids\":[\"181dba48-e6af-4684-94c6-5acfac14727c\"]},\"title\":\"Bokeh Application\",\"version\":\"0.12.2\"}};\n",
       "            var render_items = [{\"docid\":\"3065deca-a0a8-43b7-b75d-0a5098b32927\",\"elementid\":\"e29a7c3c-1a1c-4987-9ca2-c1c285b57cea\",\"modelid\":\"181dba48-e6af-4684-94c6-5acfac14727c\"}];\n",
       "            \n",
       "            Bokeh.embed.embed_items(docs_json, render_items);\n",
       "        });\n",
       "      },\n",
       "      function(Bokeh) {\n",
       "      }\n",
       "    ];\n",
       "  \n",
       "    function run_inline_js() {\n",
       "      \n",
       "      if ((window.Bokeh !== undefined) || (force === \"1\")) {\n",
       "        for (var i = 0; i < inline_js.length; i++) {\n",
       "          inline_js[i](window.Bokeh);\n",
       "        }if (force === \"1\") {\n",
       "          display_loaded();\n",
       "        }} else if (Date.now() < window._bokeh_timeout) {\n",
       "        setTimeout(run_inline_js, 100);\n",
       "      } else if (!window._bokeh_failed_load) {\n",
       "        console.log(\"Bokeh: BokehJS failed to load within specified timeout.\");\n",
       "        window._bokeh_failed_load = true;\n",
       "      } else if (!force) {\n",
       "        var cell = $(\"#e29a7c3c-1a1c-4987-9ca2-c1c285b57cea\").parents('.cell').data().cell;\n",
       "        cell.output_area.append_execute_result(NB_LOAD_WARNING)\n",
       "      }\n",
       "  \n",
       "    }\n",
       "  \n",
       "    if (window._bokeh_is_loading === 0) {\n",
       "      console.log(\"Bokeh: BokehJS loaded, going straight to plotting\");\n",
       "      run_inline_js();\n",
       "    } else {\n",
       "      load_libs(js_urls, function() {\n",
       "        console.log(\"Bokeh: BokehJS plotting callback run at\", now());\n",
       "        run_inline_js();\n",
       "      });\n",
       "    }\n",
       "  }(this));\n",
       "</script>"
      ]
     },
     "metadata": {},
     "output_type": "display_data"
    }
   ],
   "source": [
    "p = figure(\n",
    "    tools='pan, reset, box_zoom, save',\n",
    "    x_axis_label='exam1',\n",
    "    y_axis_label='exam2'\n",
    ")\n",
    "\n",
    "p.circle(\n",
    "    data1[data1['admission']==0]['exam1'],\n",
    "    data1[data1['admission']==0]['exam2'], size=5,\n",
    "    legend='not admitted'\n",
    ")\n",
    "\n",
    "p.cross(\n",
    "    data1[data1['admission']==1]['exam1'],\n",
    "    data1[data1['admission']==1]['exam2'], color='red',\n",
    "    size=10, legend='admitted'\n",
    ")\n",
    "\n",
    "p.line(exam1_bound, exam2_bound, legend='boundary', color='green')\n",
    "\n",
    "show(p)"
   ]
  },
  {
   "cell_type": "code",
   "execution_count": 51,
   "metadata": {
    "collapsed": false
   },
   "outputs": [
    {
     "name": "stdout",
     "output_type": "stream",
     "text": [
      "prediction of exam1=45, exam2=85: 0.776\n"
     ]
    }
   ],
   "source": [
    "X_test_1 = np.array([1, 45, 85]).reshape(1, -1)\n",
    "Y_test_1 = sigmoid(theta_opt_1, X_test_1).flatten()[0]\n",
    "print('prediction of exam1=45, exam2=85: %0.3f' % Y_test_1)"
   ]
  },
  {
   "cell_type": "code",
   "execution_count": 63,
   "metadata": {
    "collapsed": false
   },
   "outputs": [
    {
     "name": "stdout",
     "output_type": "stream",
     "text": [
      "prediction accuracy of the training set: 89.0%\n"
     ]
    }
   ],
   "source": [
    "Y_pred_1 = pred(theta_opt_1, X_1)\n",
    "accuracy = (Y_pred_1 == Y_1).mean()\n",
    "print('prediction accuracy of the training set: ' '{:.1%}'.format(accuracy))"
   ]
  },
  {
   "cell_type": "code",
   "execution_count": null,
   "metadata": {
    "collapsed": true
   },
   "outputs": [],
   "source": []
  }
 ],
 "metadata": {
  "anaconda-cloud": {},
  "kernelspec": {
   "display_name": "Python [default]",
   "language": "python",
   "name": "python3"
  },
  "language_info": {
   "codemirror_mode": {
    "name": "ipython",
    "version": 3
   },
   "file_extension": ".py",
   "mimetype": "text/x-python",
   "name": "python",
   "nbconvert_exporter": "python",
   "pygments_lexer": "ipython3",
   "version": "3.5.2"
  }
 },
 "nbformat": 4,
 "nbformat_minor": 1
}
